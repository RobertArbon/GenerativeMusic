{
 "cells": [
  {
   "cell_type": "code",
   "execution_count": 2,
   "metadata": {},
   "outputs": [],
   "source": [
    "from pydub import AudioSegment\n",
    "from pydub.playback import play\n",
    "import re\n",
    "from pathlib import Path\n",
    "import typing as T\n",
    "import numpy as np\n",
    "import librosa as lr\n",
    "import soundfile as sf\n",
    "import jsonlines "
   ]
  },
  {
   "cell_type": "code",
   "execution_count": 5,
   "metadata": {},
   "outputs": [],
   "source": [
    "\n",
    "def split_audio(\n",
    "    segment: AudioSegment,\n",
    "    output_dir: str,\n",
    "    duration_ms: int = 5120,\n",
    "    extension: str = \"wav\",\n",
    "    min_length_ms: int = 1000\n",
    "):\n",
    "    \"\"\"\n",
    "    Slice an audio file into clips of the given duration.\n",
    "    \"\"\"\n",
    "    output_dir_path = Path(output_dir)\n",
    "    if not output_dir_path.exists():\n",
    "        output_dir_path.mkdir(parents=True)\n",
    "\n",
    "    num_clips_existing = len(list(Path(output_dir_path).glob(f'*.{extension}')))\n",
    "\n",
    "    segment_duration_ms = int(segment.duration_seconds * 1000)\n",
    "    num_clips = segment_duration_ms//duration_ms + 1\n",
    "\n",
    "    meta_data_list = []\n",
    "    for i in range(num_clips):\n",
    "        clip_start_ms = i*duration_ms\n",
    "        clip_end_ms = min(clip_start_ms+duration_ms, segment_duration_ms)\n",
    "        act_duration_ms = clip_end_ms - clip_start_ms\n",
    "        if act_duration_ms >= min_length_ms: \n",
    "            clip = segment[clip_start_ms : clip_end_ms]\n",
    "\n",
    "            # clip_name = f\"clip_{i+num_clips_existing}_start_{clip_start_ms}_ms_duration_{act_duration_ms}_ms.{extension}\"\n",
    "            clip_name = f\"clip_{i+num_clips_existing}.{extension}\"\n",
    "            clip_path = output_dir_path / clip_name\n",
    "            clip.export(clip_path, format=extension)\n",
    "            meta_data = {'start_ms': clip_start_ms, 'end_ms': clip_end_ms, \n",
    "                         'file_name': str(clip_path)} \n",
    "            meta_data_list.append(meta_data)\n",
    "    return meta_data_list\n",
    "    \n",
    "\n",
    "def load(path: str): \n",
    "    segment = AudioSegment.from_file(path)\n",
    "    segment = segment.set_channels(1)\n",
    "    return segment\n",
    "\n",
    "def update_dict_list(list_dicts: T.List[T.Dict[str, str]], update_dict: T.Dict[str, str]):\n",
    "    for d in list_dicts:\n",
    "        d.update(update_dict)\n",
    "    return list_dicts\n",
    "\n",
    "def write_metadata(mdata: T.List[T.Dict[str, str]], output_dir: str) -> None: \n",
    "    mdata_path = Path(output_dir) / 'meta_data.jsonl'\n",
    "    with jsonlines.open(mdata_path, 'w') as writer: \n",
    "        writer.write_all(mdata)\n",
    "    return mdata_path\n",
    "\n"
   ]
  },
  {
   "cell_type": "markdown",
   "metadata": {},
   "source": [
    "This script will create the audio data set and write out the metadata. \n",
    "\n",
    "For each file we: \n",
    "1. split into segments of between 1000 and 5120 ms. \n",
    "2. offset the clip by 1000, 2000, 3000 seconds and do the same splitting. \n",
    "3. change the pitch by ..."
   ]
  },
  {
   "cell_type": "code",
   "execution_count": 10,
   "metadata": {},
   "outputs": [
    {
     "data": {
      "text/plain": [
       "PosixPath('audio/meta_data.jsonl')"
      ]
     },
     "execution_count": 10,
     "metadata": {},
     "output_type": "execute_result"
    }
   ],
   "source": [
    "files = list(Path('./processed/').rglob('*.wav'))\n",
    "\n",
    "#\n",
    "out_max_duration_ms = 5120\n",
    "out_min_duration_ms = 1000\n",
    "\n",
    "# Data augmentation\n",
    "offsets_ms = np.array([1, 2, 3])*1000\n",
    "\n",
    "out_dir = './audio'\n",
    "for path in Path(out_dir).glob('*'):\n",
    "    path.unlink()\n",
    "\n",
    "all_metadata = []\n",
    "\n",
    "for file in files: \n",
    "    mdata = {'source_file': str(file), 'prompt': f'Solo Guzheng in the {file.parent.stem} style', 'augmentation': None, 'augmentation_param': None, 'augmentation_value': None}\n",
    "    segment = load(file)\n",
    "\n",
    "    clips_mdata = split_audio(segment, output_dir=out_dir, duration_ms=out_max_duration_ms, min_length_ms=out_min_duration_ms)\n",
    "    clips_mdata = update_dict_list(clips_mdata, mdata)\n",
    "    all_metadata.extend(clips_mdata)\n",
    "\n",
    "    if len(segment) > out_min_duration_ms + max(offsets_ms): \n",
    "        mdata['augmentation'] = 'offset'\n",
    "        mdata['augmentation_param'] = 'offset_ms'\n",
    "        for offset in offsets_ms: \n",
    "            mdata['augmentation_value'] = int(offset)           \n",
    "            segment_offset = segment[offset:]\n",
    "    \n",
    "            clips_mdata = split_audio(segment_offset, output_dir=out_dir, duration_ms=out_max_duration_ms, min_length_ms=out_min_duration_ms)\n",
    "            clips_mdata = update_dict_list(clips_mdata, mdata)\n",
    "            all_metadata.extend(clips_mdata)\n",
    "\n",
    "\n",
    "\n",
    "\n",
    "write_metadata(all_metadata, output_dir=out_dir)\n"
   ]
  },
  {
   "cell_type": "code",
   "execution_count": null,
   "metadata": {},
   "outputs": [],
   "source": []
  },
  {
   "cell_type": "code",
   "execution_count": null,
   "metadata": {},
   "outputs": [],
   "source": []
  },
  {
   "cell_type": "code",
   "execution_count": 44,
   "metadata": {},
   "outputs": [
    {
     "data": {
      "text/plain": [
       "[{'start_ms': 0,\n",
       "  'end_ms': 5120,\n",
       "  'file_name': 'audio/clip_0.wav',\n",
       "  'source_file': 'processed/Alienated/alienated 2 靖沐第一次錄音.wav',\n",
       "  'prompt': 'Solo Guzheng in the Alienated style'},\n",
       " {'start_ms': 5120,\n",
       "  'end_ms': 10240,\n",
       "  'file_name': 'audio/clip_1.wav',\n",
       "  'source_file': 'processed/Alienated/alienated 2 靖沐第一次錄音.wav',\n",
       "  'prompt': 'Solo Guzheng in the Alienated style'},\n",
       " {'start_ms': 10240,\n",
       "  'end_ms': 10439,\n",
       "  'file_name': 'audio/clip_2.wav',\n",
       "  'source_file': 'processed/Alienated/alienated 2 靖沐第一次錄音.wav',\n",
       "  'prompt': 'Solo Guzheng in the Alienated style'}]"
      ]
     },
     "execution_count": 44,
     "metadata": {},
     "output_type": "execute_result"
    }
   ],
   "source": [
    "clips_mdata"
   ]
  },
  {
   "cell_type": "code",
   "execution_count": 30,
   "metadata": {},
   "outputs": [],
   "source": [
    "x.update(y)"
   ]
  },
  {
   "cell_type": "code",
   "execution_count": 31,
   "metadata": {},
   "outputs": [
    {
     "data": {
      "text/plain": [
       "{'1': 1, '2': 2, '3': 3, '4': 4}"
      ]
     },
     "execution_count": 31,
     "metadata": {},
     "output_type": "execute_result"
    }
   ],
   "source": [
    "x"
   ]
  },
  {
   "cell_type": "code",
   "execution_count": 32,
   "metadata": {},
   "outputs": [],
   "source": [
    "y['3'] = 'three'"
   ]
  },
  {
   "cell_type": "code",
   "execution_count": 33,
   "metadata": {},
   "outputs": [
    {
     "data": {
      "text/plain": [
       "{'1': 1, '2': 2, '3': 3, '4': 4}"
      ]
     },
     "execution_count": 33,
     "metadata": {},
     "output_type": "execute_result"
    }
   ],
   "source": [
    "x"
   ]
  },
  {
   "cell_type": "code",
   "execution_count": 34,
   "metadata": {},
   "outputs": [
    {
     "data": {
      "text/plain": [
       "{'3': 'three', '4': 4}"
      ]
     },
     "execution_count": 34,
     "metadata": {},
     "output_type": "execute_result"
    }
   ],
   "source": [
    "y"
   ]
  },
  {
   "cell_type": "code",
   "execution_count": null,
   "metadata": {},
   "outputs": [],
   "source": []
  }
 ],
 "metadata": {
  "kernelspec": {
   "display_name": "GenerativeMusic-JrvY4iMK",
   "language": "python",
   "name": "python3"
  },
  "language_info": {
   "codemirror_mode": {
    "name": "ipython",
    "version": 3
   },
   "file_extension": ".py",
   "mimetype": "text/x-python",
   "name": "python",
   "nbconvert_exporter": "python",
   "pygments_lexer": "ipython3",
   "version": "3.11.6"
  }
 },
 "nbformat": 4,
 "nbformat_minor": 2
}
