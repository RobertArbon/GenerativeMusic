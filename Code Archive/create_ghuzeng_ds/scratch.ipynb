{
 "cells": [
  {
   "cell_type": "code",
   "execution_count": 2,
   "metadata": {},
   "outputs": [
    {
     "name": "stderr",
     "output_type": "stream",
     "text": [
      "/home/lex/.local/share/virtualenvs/GenerativeMusic-JrvY4iMK/lib/python3.11/site-packages/tqdm/auto.py:21: TqdmWarning: IProgress not found. Please update jupyter and ipywidgets. See https://ipywidgets.readthedocs.io/en/stable/user_install.html\n",
      "  from .autonotebook import tqdm as notebook_tqdm\n"
     ]
    }
   ],
   "source": [
    "from pydub import AudioSegment, silence\n",
    "from pydub.effects import normalize\n",
    "\n",
    "import numpy as np\n",
    "from pathlib import Path\n",
    "from pydub.playback import play\n",
    "import noisereduce as nr"
   ]
  },
  {
   "cell_type": "code",
   "execution_count": 25,
   "metadata": {},
   "outputs": [],
   "source": [
    "source_dir = '/home/lex/Data/Guzheng/Guzheng/categorised by material (traditional school of guzheng playing)'\n",
    "school_dir = '_Alienated_ materials'\n",
    "fname = 'alienated 1 靖沐dress rehearsal.wav'"
   ]
  },
  {
   "cell_type": "code",
   "execution_count": 26,
   "metadata": {},
   "outputs": [],
   "source": [
    "path = f'{source_dir}/{school_dir}/{fname}'\n",
    "clip = AudioSegment.from_file(path)\n",
    "clip = clip.set_channels(1)"
   ]
  },
  {
   "cell_type": "code",
   "execution_count": 43,
   "metadata": {},
   "outputs": [
    {
     "name": "stderr",
     "output_type": "stream",
     "text": [
      "Input #0, wav, from '/tmp/tmpzw1wn71f.wav':   0KB sq=    0B f=0/0   \n",
      "  Duration: 00:00:03.00, bitrate: 1411 kb/s\n",
      "  Stream #0:0: Audio: pcm_s16le ([1][0][0][0] / 0x0001), 44100 Hz, 2 channels, s16, 1411 kb/s\n",
      "   2.93 M-A:  0.000 fd=   0 aq=    0KB vq=    0KB sq=    0B f=0/0   \r"
     ]
    },
    {
     "name": "stdout",
     "output_type": "stream",
     "text": [
      "\n"
     ]
    }
   ],
   "source": [
    "noise = AudioSegment.from_file(f'{source_dir}/{school_dir}/alienated 1 靖沐第一次錄音.wav')\n",
    "noise = normalize(noise)[9900:]\n",
    "noise_raw = np.array(noise.get_array_of_samples())\n",
    "noise_raw = noise_raw\n",
    "with Path('./noise_from_alienated 1 靖沐第一次錄音.wav').open('wb') as f: \n",
    "    noise.export(f, format='wav')\n",
    "play(noise)"
   ]
  },
  {
   "cell_type": "code",
   "execution_count": 38,
   "metadata": {},
   "outputs": [],
   "source": [
    "clip_norm = normalize(clip)\n",
    "\n",
    "clip_raw = np.array(clip_norm.get_array_of_samples())\n",
    "\n",
    "clip_raw_no_noise = nr.reduce_noise(y=clip_raw, \n",
    "                                    sr=clip_norm.frame_rate, \n",
    "                                    y_noise=noise_raw, \n",
    "                                    stationary=True, \n",
    "                                    prop_decrease=0.8\n",
    "                                    )\n",
    "\n",
    "clip_no_noise = AudioSegment(clip_raw_no_noise.tobytes(), \n",
    "                             frame_rate=clip.frame_rate, \n",
    "                             channels=1, \n",
    "                             sample_width=clip_raw_no_noise.dtype.itemsize)\n",
    "\n",
    "non_silent = silence.split_on_silence(clip_no_noise, silence_thresh=-40, keep_silence=500)\n",
    "clip_no_silence = sum(non_silent[1:], start=non_silent[0]) if len(non_silent) > 1 else non_silent[0]"
   ]
  },
  {
   "cell_type": "code",
   "execution_count": 39,
   "metadata": {},
   "outputs": [
    {
     "data": {
      "text/plain": [
       "(13000, 13000, 11132)"
      ]
     },
     "execution_count": 39,
     "metadata": {},
     "output_type": "execute_result"
    }
   ],
   "source": [
    "len(clip_norm), len(clip_no_noise),len(clip_no_silence)"
   ]
  },
  {
   "cell_type": "code",
   "execution_count": 40,
   "metadata": {},
   "outputs": [
    {
     "name": "stderr",
     "output_type": "stream",
     "text": [
      "Input #0, wav, from '/tmp/tmpci11yyvk.wav':   0KB sq=    0B f=0/0   \n",
      "  Duration: 00:00:05.00, bitrate: 705 kb/s\n",
      "  Stream #0:0: Audio: pcm_s16le ([1][0][0][0] / 0x0001), 44100 Hz, 1 channels, s16, 705 kb/s\n",
      "   4.82 M-A:  0.000 fd=   0 aq=    0KB vq=    0KB sq=    0B f=0/0   \r"
     ]
    },
    {
     "name": "stdout",
     "output_type": "stream",
     "text": [
      "\n"
     ]
    },
    {
     "name": "stderr",
     "output_type": "stream",
     "text": [
      "   4.91 M-A:  0.000 fd=   0 aq=    0KB vq=    0KB sq=    0B f=0/0   \r"
     ]
    }
   ],
   "source": [
    "play(clip_norm[:5000])"
   ]
  },
  {
   "cell_type": "code",
   "execution_count": 41,
   "metadata": {},
   "outputs": [
    {
     "name": "stderr",
     "output_type": "stream",
     "text": [
      "Input #0, wav, from '/tmp/tmpwsqtrmvh.wav':   0KB sq=    0B f=0/0   \n",
      "  Duration: 00:00:05.00, bitrate: 705 kb/s\n",
      "  Stream #0:0: Audio: pcm_s16le ([1][0][0][0] / 0x0001), 44100 Hz, 1 channels, s16, 705 kb/s\n",
      "   4.82 M-A:  0.000 fd=   0 aq=    0KB vq=    0KB sq=    0B f=0/0   \r"
     ]
    },
    {
     "name": "stdout",
     "output_type": "stream",
     "text": [
      "\n"
     ]
    },
    {
     "name": "stderr",
     "output_type": "stream",
     "text": [
      "   4.94 M-A:  0.000 fd=   0 aq=    0KB vq=    0KB sq=    0B f=0/0   \r"
     ]
    }
   ],
   "source": [
    "play(clip_no_noise[:5000])"
   ]
  },
  {
   "cell_type": "code",
   "execution_count": 42,
   "metadata": {},
   "outputs": [
    {
     "name": "stderr",
     "output_type": "stream",
     "text": [
      "Input #0, wav, from '/tmp/tmpu5lc3en0.wav':   0KB sq=    0B f=0/0   \n",
      "  Duration: 00:00:11.13, bitrate: 705 kb/s\n",
      "  Stream #0:0: Audio: pcm_s16le ([1][0][0][0] / 0x0001), 44100 Hz, 1 channels, s16, 705 kb/s\n",
      "  10.95 M-A:  0.000 fd=   0 aq=    0KB vq=    0KB sq=    0B f=0/0   \r"
     ]
    },
    {
     "name": "stdout",
     "output_type": "stream",
     "text": [
      "\n"
     ]
    },
    {
     "name": "stderr",
     "output_type": "stream",
     "text": [
      "  11.04 M-A:  0.000 fd=   0 aq=    0KB vq=    0KB sq=    0B f=0/0   \r"
     ]
    }
   ],
   "source": [
    "play(clip_no_silence)"
   ]
  },
  {
   "cell_type": "code",
   "execution_count": null,
   "metadata": {},
   "outputs": [],
   "source": []
  }
 ],
 "metadata": {
  "kernelspec": {
   "display_name": "GenerativeMusic-JrvY4iMK",
   "language": "python",
   "name": "python3"
  },
  "language_info": {
   "codemirror_mode": {
    "name": "ipython",
    "version": 3
   },
   "file_extension": ".py",
   "mimetype": "text/x-python",
   "name": "python",
   "nbconvert_exporter": "python",
   "pygments_lexer": "ipython3",
   "version": "3.11.6"
  }
 },
 "nbformat": 4,
 "nbformat_minor": 2
}
